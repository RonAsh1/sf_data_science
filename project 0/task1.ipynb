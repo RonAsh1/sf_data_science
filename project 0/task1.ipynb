{
 "cells": [
  {
   "cell_type": "code",
   "execution_count": 14,
   "metadata": {},
   "outputs": [
    {
     "ename": "ModuleNotFoundError",
     "evalue": "No module named 'taks_v1'",
     "output_type": "error",
     "traceback": [
      "\u001b[1;31m---------------------------------------------------------------------------\u001b[0m",
      "\u001b[1;31mModuleNotFoundError\u001b[0m                       Traceback (most recent call last)",
      "\u001b[1;32mc:\\Users\\RR\\Documents\\IDE\\Task\\task1.ipynb Cell 1'\u001b[0m in \u001b[0;36m<cell line: 1>\u001b[1;34m()\u001b[0m\n\u001b[1;32m----> <a href='vscode-notebook-cell:/c%3A/Users/RR/Documents/IDE/Task/task1.ipynb#ch0000003?line=0'>1</a>\u001b[0m \u001b[39mfrom\u001b[39;00m \u001b[39mtaks_v1\u001b[39;00m \u001b[39mimport\u001b[39;00m predict_random\n\u001b[0;32m      <a href='vscode-notebook-cell:/c%3A/Users/RR/Documents/IDE/Task/task1.ipynb#ch0000003?line=1'>2</a>\u001b[0m \u001b[39mfrom\u001b[39;00m \u001b[39mtaks_v1\u001b[39;00m \u001b[39mimport\u001b[39;00m game_score\n",
      "\u001b[1;31mModuleNotFoundError\u001b[0m: No module named 'taks_v1'"
     ]
    }
   ],
   "source": [
    "from taks_v1 import predict_random\n",
    "from taks_v1 import game_score"
   ]
  }
 ],
 "metadata": {
  "kernelspec": {
   "display_name": "Python 3.10.4 32-bit",
   "language": "python",
   "name": "python3"
  },
  "language_info": {
   "codemirror_mode": {
    "name": "ipython",
    "version": 3
   },
   "file_extension": ".py",
   "mimetype": "text/x-python",
   "name": "python",
   "nbconvert_exporter": "python",
   "pygments_lexer": "ipython3",
   "version": "3.10.4"
  },
  "orig_nbformat": 4,
  "vscode": {
   "interpreter": {
    "hash": "d5ade8982dbed2d7ccc2b15d513b327fee34dad38cd4549a9af7fe2f4e58bdd5"
   }
  }
 },
 "nbformat": 4,
 "nbformat_minor": 2
}
